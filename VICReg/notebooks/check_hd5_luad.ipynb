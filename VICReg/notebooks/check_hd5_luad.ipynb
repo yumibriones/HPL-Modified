{
 "cells": [
  {
   "cell_type": "code",
   "execution_count": null,
   "metadata": {},
   "outputs": [],
   "source": [
    "!pip install h5py"
   ]
  },
  {
   "cell_type": "code",
   "execution_count": 2,
   "metadata": {},
   "outputs": [
    {
     "name": "stdout",
     "output_type": "stream",
     "text": [
      "['train_img', 'train_labels', 'train_patterns', 'train_slides', 'train_tiles']\n",
      "[b'41_27.jpeg' b'18_22.jpeg' b'33_15.jpeg' ... b'45_5.jpeg' b'38_22.jpeg'\n",
      " b'34_22.jpeg']\n",
      "582616\n"
     ]
    }
   ],
   "source": [
    "import h5py\n",
    "\n",
    "file_path = \"/gpfs/data/pmedlab/Resources/HPL/TCGAFFPE_LUADLUSC_5x_60pc/hdf5_TCGAFFPE_LUADLUSC_5x_60pc_he_train-002.h5\"\n",
    "\n",
    "with h5py.File(file_path, 'r') as f:\n",
    "    print(list(f.keys()))\n",
    "    \n",
    "    combined_tiles_dataset = f['train_tiles'][:]\n",
    "    print(combined_tiles_dataset)\n",
    "\n",
    "print(len(combined_tiles_dataset))"
   ]
  },
  {
   "cell_type": "code",
   "execution_count": 4,
   "metadata": {},
   "outputs": [
    {
     "name": "stdout",
     "output_type": "stream",
     "text": [
      "['valid_img', 'valid_labels', 'valid_patterns', 'valid_slides', 'valid_tiles']\n",
      "[b'57_25.jpeg' b'42_18.jpeg' b'20_20.jpeg' ... b'44_23.jpeg' b'22_20.jpeg'\n",
      " b'13_38.jpeg']\n",
      "156329\n"
     ]
    }
   ],
   "source": [
    "import h5py\n",
    "\n",
    "file_path = \"/gpfs/data/pmedlab/Resources/HPL/TCGAFFPE_LUADLUSC_5x_60pc/hdf5_TCGAFFPE_LUADLUSC_5x_60pc_he_validation-003.h5\"\n",
    "\n",
    "with h5py.File(file_path, 'r') as f:\n",
    "    print(list(f.keys()))\n",
    "    \n",
    "    combined_tiles_dataset = f['valid_tiles'][:]\n",
    "    print(combined_tiles_dataset)\n",
    "\n",
    "print(len(combined_tiles_dataset))"
   ]
  },
  {
   "cell_type": "code",
   "execution_count": 5,
   "metadata": {},
   "outputs": [
    {
     "name": "stdout",
     "output_type": "stream",
     "text": [
      "['test_img', 'test_labels', 'test_patterns', 'test_slides', 'test_tiles']\n",
      "[b'41_26.jpeg' b'41_32.jpeg' b'12_19.jpeg' ... b'4_8.jpeg' b'27_22.jpeg'\n",
      " b'5_22.jpeg']\n",
      "148737\n"
     ]
    }
   ],
   "source": [
    "import h5py\n",
    "\n",
    "file_path = \"/gpfs/data/pmedlab/Resources/HPL/TCGAFFPE_LUADLUSC_5x_60pc/hdf5_TCGAFFPE_LUADLUSC_5x_60pc_he_test-001.h5\"\n",
    "\n",
    "with h5py.File(file_path, 'r') as f:\n",
    "    print(list(f.keys()))\n",
    "    \n",
    "    combined_tiles_dataset = f['test_tiles'][:]\n",
    "    print(combined_tiles_dataset)\n",
    "\n",
    "print(len(combined_tiles_dataset))"
   ]
  },
  {
   "cell_type": "code",
   "execution_count": 2,
   "metadata": {},
   "outputs": [
    {
     "name": "stdout",
     "output_type": "stream",
     "text": [
      "['img', 'labels', 'patterns', 'slides', 'tiles']\n",
      "[b'TCGA-49-6745-01Z-00-DX7' b'TCGA-68-A59J-01Z-00-DX1'\n",
      " b'TCGA-95-A4VN-01Z-00-DX1' ... b'TCGA-63-5131-01Z-00-DX1'\n",
      " b'TCGA-49-AARE-01Z-00-DX1' b'TCGA-73-7498-01Z-00-DX1']\n",
      "250000\n"
     ]
    }
   ],
   "source": [
    "import h5py\n",
    "\n",
    "file_path = \"/gpfs/data/pmedlab/Users/mottej02/dl_project/pipeline/Histomorphological-Phenotype-Learning/datasets/hdf5_TCGAFFPE_LUADLUSC_5x_60pc_250K_he_train.h5\"\n",
    "\n",
    "with h5py.File(file_path, 'r') as f:\n",
    "    print(list(f.keys()))\n",
    "    \n",
    "    combined_tiles_dataset = f['slides'][:]\n",
    "    print(combined_tiles_dataset)\n",
    "\n",
    "print(len(combined_tiles_dataset))"
   ]
  },
  {
   "cell_type": "code",
   "execution_count": 3,
   "metadata": {},
   "outputs": [],
   "source": [
    "def rename_h5_dataset(file_path, old_key, new_key):\n",
    "    with h5py.File(file_path, 'r+') as f:  # Open in read-write mode\n",
    "        # Check if the old key exists\n",
    "        if old_key in f:\n",
    "            # Create a new dataset with the same data\n",
    "            f.create_dataset(new_key, data=f[old_key][:])\n",
    "            \n",
    "            # Copy attributes if any\n",
    "            for attr_name, attr_value in f[old_key].attrs.items():\n",
    "                f[new_key].attrs[attr_name] = attr_value\n",
    "                \n",
    "            # Delete the old dataset\n",
    "            del f[old_key]\n",
    "            \n",
    "            print(f\"Successfully renamed '{old_key}' to '{new_key}'\")\n",
    "        else:\n",
    "            print(f\"Key '{old_key}' not found in the file\")\n"
   ]
  },
  {
   "cell_type": "code",
   "execution_count": 4,
   "metadata": {},
   "outputs": [
    {
     "name": "stdout",
     "output_type": "stream",
     "text": [
      "Successfully renamed 'img' to 'train_img'\n",
      "Successfully renamed 'labels' to 'train_labels'\n",
      "Successfully renamed 'patterns' to 'train_patterns'\n",
      "Successfully renamed 'slides' to 'train_slides'\n",
      "Successfully renamed 'tiles' to 'train_tiles'\n"
     ]
    }
   ],
   "source": [
    "rename_h5_dataset(file_path, 'img', 'train_img')\n",
    "rename_h5_dataset(file_path, 'labels', 'train_labels')\n",
    "rename_h5_dataset(file_path, 'patterns', 'train_patterns')\n",
    "rename_h5_dataset(file_path, 'slides', 'train_slides')\n",
    "rename_h5_dataset(file_path, 'tiles', 'train_tiles')"
   ]
  },
  {
   "cell_type": "code",
   "execution_count": 6,
   "metadata": {},
   "outputs": [
    {
     "name": "stdout",
     "output_type": "stream",
     "text": [
      "['train_img', 'train_labels', 'train_patterns', 'train_slides', 'train_tiles']\n",
      "[b'TCGA-49-6745-01Z-00-DX7' b'TCGA-68-A59J-01Z-00-DX1'\n",
      " b'TCGA-95-A4VN-01Z-00-DX1' ... b'TCGA-63-5131-01Z-00-DX1'\n",
      " b'TCGA-49-AARE-01Z-00-DX1' b'TCGA-73-7498-01Z-00-DX1']\n",
      "250000\n"
     ]
    }
   ],
   "source": [
    "with h5py.File(file_path, 'r') as f:\n",
    "    print(list(f.keys()))\n",
    "    \n",
    "    combined_tiles_dataset = f['train_slides'][:]\n",
    "    print(combined_tiles_dataset)\n",
    "\n",
    "print(len(combined_tiles_dataset))"
   ]
  },
  {
   "cell_type": "code",
   "execution_count": 1,
   "metadata": {},
   "outputs": [
    {
     "name": "stdout",
     "output_type": "stream",
     "text": [
      "['img_h_latent', 'img_z_latent', 'indexes', 'labels', 'original_set', 'patterns', 'slides', 'tiles']\n",
      "[b'TCGA-49-6745-01Z-00-DX7' b'TCGA-68-A59J-01Z-00-DX1'\n",
      " b'TCGA-95-A4VN-01Z-00-DX1' ... b'TCGA-18-3417-01Z-00-DX1'\n",
      " b'TCGA-18-3417-01Z-00-DX1' b'TCGA-18-3417-01Z-00-DX1']\n",
      "555066\n"
     ]
    }
   ],
   "source": [
    "import h5py\n",
    "\n",
    "file_path = \"/gpfs/data/pmedlab/Users/mottej02/dl_project/pipeline/Histomorphological-Phenotype-Learning/results/VICReg_0/TCGAFFPE_LUADLUSC_5x_60pc_250K/h224_w224_n3_zdim128/hdf5_TCGAFFPE_LUADLUSC_5x_60pc_250K_he_complete.h5\"\n",
    "\n",
    "with h5py.File(file_path, 'r') as f:\n",
    "    print(list(f.keys()))\n",
    "    \n",
    "    combined_tiles_dataset = f['slides'][:]\n",
    "    print(combined_tiles_dataset)\n",
    "\n",
    "print(len(combined_tiles_dataset))"
   ]
  },
  {
   "cell_type": "code",
   "execution_count": 8,
   "metadata": {},
   "outputs": [
    {
     "name": "stdout",
     "output_type": "stream",
     "text": [
      "['img_h_latent', 'img_z_latent', 'indexes', 'labels', 'luad', 'original_set', 'patterns', 'slides', 'tiles']\n",
      "[b'TCGA-49-6745-01Z-00-DX7' b'TCGA-68-A59J-01Z-00-DX1'\n",
      " b'TCGA-95-A4VN-01Z-00-DX1' ... b'TCGA-18-3417-01Z-00-DX1'\n",
      " b'TCGA-18-3417-01Z-00-DX1' b'TCGA-18-3417-01Z-00-DX1']\n",
      "[b'46_14.jpeg' b'23_9.jpeg' b'41_5.jpeg' ... b'4_8.jpeg' b'27_22.jpeg'\n",
      " b'5_22.jpeg']\n",
      "552612\n"
     ]
    }
   ],
   "source": [
    "import h5py\n",
    "\n",
    "file_path = '/gpfs/data/pmedlab/Users/mottej02/dl_project/pipeline/Histomorphological-Phenotype-Learning/results/VICReg_0/TCGAFFPE_LUADLUSC_5x_60pc_250K/h224_w224_n3_zdim128/hdf5_TCGAFFPE_LUADLUSC_5x_60pc_250K_he_complete_TCGAFFPE_LUADLUSC_5x_60pc_250K_metadata.h5'\n",
    "\n",
    "with h5py.File(file_path, 'r') as f:\n",
    "    print(list(f.keys()))\n",
    "\n",
    "    combined_tiles_dataset = f['slides'][:]\n",
    "    print(combined_tiles_dataset)\n",
    "\n",
    "    combined_indexes_dataset = f['tiles'][:]\n",
    "    print(combined_indexes_dataset)\n",
    "    \n",
    "\n",
    "print(len(combined_tiles_dataset))"
   ]
  }
 ],
 "metadata": {
  "kernelspec": {
   "display_name": "Python 3 (ipykernel)",
   "language": "python",
   "name": "python3"
  },
  "language_info": {
   "codemirror_mode": {
    "name": "ipython",
    "version": 3
   },
   "file_extension": ".py",
   "mimetype": "text/x-python",
   "name": "python",
   "nbconvert_exporter": "python",
   "pygments_lexer": "ipython3",
   "version": "3.9.21"
  }
 },
 "nbformat": 4,
 "nbformat_minor": 2
}
