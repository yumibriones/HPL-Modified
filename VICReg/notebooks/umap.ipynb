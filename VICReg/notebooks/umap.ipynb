{
 "cells": [
  {
   "cell_type": "markdown",
   "metadata": {},
   "source": [
    "## UMAPs ##"
   ]
  },
  {
   "cell_type": "code",
   "execution_count": 1,
   "metadata": {},
   "outputs": [],
   "source": [
    "import numpy as np\n",
    "import pandas as pd\n",
    "import ast\n",
    "import matplotlib.pyplot as plt\n",
    "import seaborn as sns\n",
    "import math\n",
    "from matplotlib.colors import Normalize\n",
    "import matplotlib.cm as cm\n",
    "import os"
   ]
  },
  {
   "cell_type": "code",
   "execution_count": 2,
   "metadata": {},
   "outputs": [],
   "source": [
    "# dimplot for leiden clusters\n",
    "def dim_plot(merged_df, umap_1_col='umap_1', umap_2_col='umap_2', feature_col='leiden_2.0', save_dir='.'):\n",
    "    \"\"\"\n",
    "    Plot UMAP with specified feature column and save the plot, with cluster numbers projected if feature_col is Leiden.\n",
    "    \"\"\"\n",
    "    print(f\"Plotting UMAP by {feature_col}...\")\n",
    "    plt.figure(figsize=(10, 8))\n",
    "    ax = sns.scatterplot(\n",
    "        x=umap_1_col, y=umap_2_col, hue=feature_col,\n",
    "        data=merged_df, palette='tab20', legend=None, s=5, alpha=0.7\n",
    "    )\n",
    "    \n",
    "    # annotate cluster numbers\n",
    "    if feature_col.startswith('leiden'):\n",
    "        centroids = merged_df.groupby(feature_col)[[umap_1_col, umap_2_col]].mean()\n",
    "        for cluster, (x, y) in centroids.iterrows():\n",
    "            ax.text(x, y, str(cluster), fontsize=9, weight='bold', ha='center', va='center', color='black')\n",
    "\n",
    "    plt.title(f'UMAP Colored by {feature_col}')\n",
    "    plt.savefig(f\"{save_dir}/umap_by_{feature_col}.png\", bbox_inches='tight')\n",
    "    plt.close() \n",
    "\n",
    "# feature plot to highlight one feature at a time\n",
    "def feature_plot(merged_df, umap_1_col='umap_1', umap_2_col='umap_2', feature_cols='leiden_2.0', save_dir='.'):\n",
    "    print(f\"Plotting UMAP by {feature_cols}...\")\n",
    "    # Loop over each feature column and plot\n",
    "    for feature in feature_cols:\n",
    "        unique_values = merged_df[feature].dropna().value_counts().index.tolist()\n",
    "        n_vals = len(unique_values)\n",
    "        n_cols = 2\n",
    "        n_rows = math.ceil(n_vals / n_cols)\n",
    "        fig, axes = plt.subplots(n_rows, n_cols, figsize=(5 * n_cols, 5 * n_rows))\n",
    "        axes = axes.flatten()\n",
    "\n",
    "        for i, val in enumerate(unique_values):\n",
    "            ax = axes[i]\n",
    "            base = merged_df.copy()\n",
    "            base['plot_group'] = 'Other'\n",
    "            base.loc[base[feature] == val, 'plot_group'] = val\n",
    "            sns.scatterplot(data=base, x=umap_1_col, y=umap_2_col, hue='plot_group', palette={val: 'red', 'Other': 'lightgray'}, ax=ax, s=5, alpha=0.7, legend=False)\n",
    "            ax.set_title(f'{val}')\n",
    "            ax.set_xlabel('')\n",
    "            ax.set_ylabel('')\n",
    "        for j in range(i + 1, len(axes)):\n",
    "            axes[j].axis('off')\n",
    "        fig.suptitle(f'UMAP by {feature}', fontsize=16)\n",
    "        plt.tight_layout()\n",
    "        plt.savefig(f\"{save_dir}/umap_by_{feature}.png\", bbox_inches='tight')\n",
    "        plt.close()"
   ]
  },
  {
   "cell_type": "code",
   "execution_count": 4,
   "metadata": {},
   "outputs": [
    {
     "name": "stdout",
     "output_type": "stream",
     "text": [
      "Processing BarlowTwins_3/test data...\n",
      "Plotting UMAP by leiden_2.0...\n",
      "Plotting UMAP by sampleID...\n",
      "Plotting UMAP by ['_primary_disease']...\n"
     ]
    }
   ],
   "source": [
    "metadata_file = \"/gpfs/scratch/yb2612/dl4med_25/dl_project/scratch_data/hpl-clip/lung_subsample_clinical_clusters.csv\"\n",
    "\n",
    "epoch = 27\n",
    "\n",
    "for model in [\"BarlowTwins_3\"]:\n",
    "    for set in [\"test\"]:\n",
    "        print(f\"Processing {model}/{set} data...\")\n",
    "        embedding_file = f\"/gpfs/data/pmedlab/Users/mottej02/dl_project/pipeline/Histomorphological-Phenotype-Learning/results/{model}/epoch_{epoch}/dataframes/{set}/image_embeddings.npy\"\n",
    "        filenames_file = f\"/gpfs/data/pmedlab/Users/mottej02/dl_project/pipeline/Histomorphological-Phenotype-Learning/results/{model}/epoch_{epoch}/dataframes/{set}/image_filenames.npy\"\n",
    "        save_dir = f\"/gpfs/data/pmedlab/Users/mottej02/dl_project/pipeline/Histomorphological-Phenotype-Learning/results/{model}/epoch_{epoch}/dataframes/{set}/leiden\"\n",
    "        \n",
    "        merged_df = pd.read_csv(f\"/gpfs/data/pmedlab/Users/mottej02/dl_project/pipeline/Histomorphological-Phenotype-Learning/results/{model}/epoch_{epoch}/dataframes/{set}/leiden/umap_leiden_results.csv\")\n",
    "        dim_plot(merged_df, feature_col='leiden_2.0', save_dir=save_dir)\n",
    "        dim_plot(merged_df, feature_col='sampleID', save_dir=save_dir)\n",
    "        feature_plot(merged_df, feature_cols=['_primary_disease'], save_dir=save_dir)"
   ]
  }
 ],
 "metadata": {
  "kernelspec": {
   "display_name": "Python 3 (ipykernel)",
   "language": "python",
   "name": "python3"
  },
  "language_info": {
   "codemirror_mode": {
    "name": "ipython",
    "version": 3
   },
   "file_extension": ".py",
   "mimetype": "text/x-python",
   "name": "python",
   "nbconvert_exporter": "python",
   "pygments_lexer": "ipython3",
   "version": "3.9.21"
  }
 },
 "nbformat": 4,
 "nbformat_minor": 2
}
