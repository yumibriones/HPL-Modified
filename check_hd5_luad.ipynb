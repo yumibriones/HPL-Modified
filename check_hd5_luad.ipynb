{
 "cells": [
  {
   "cell_type": "code",
   "execution_count": null,
   "metadata": {},
   "outputs": [],
   "source": [
    "!pip install h5py"
   ]
  },
  {
   "cell_type": "code",
   "execution_count": 2,
   "metadata": {},
   "outputs": [
    {
     "name": "stdout",
     "output_type": "stream",
     "text": [
      "['train_img', 'train_labels', 'train_patterns', 'train_slides', 'train_tiles']\n",
      "[b'41_27.jpeg' b'18_22.jpeg' b'33_15.jpeg' ... b'45_5.jpeg' b'38_22.jpeg'\n",
      " b'34_22.jpeg']\n",
      "582616\n"
     ]
    }
   ],
   "source": [
    "import h5py\n",
    "\n",
    "file_path = \"/gpfs/data/pmedlab/Resources/HPL/TCGAFFPE_LUADLUSC_5x_60pc/hdf5_TCGAFFPE_LUADLUSC_5x_60pc_he_train-002.h5\"\n",
    "\n",
    "with h5py.File(file_path, 'r') as f:\n",
    "    print(list(f.keys()))\n",
    "    \n",
    "    combined_tiles_dataset = f['train_tiles'][:]\n",
    "    print(combined_tiles_dataset)\n",
    "\n",
    "print(len(combined_tiles_dataset))"
   ]
  },
  {
   "cell_type": "code",
   "execution_count": 4,
   "metadata": {},
   "outputs": [
    {
     "name": "stdout",
     "output_type": "stream",
     "text": [
      "['valid_img', 'valid_labels', 'valid_patterns', 'valid_slides', 'valid_tiles']\n",
      "[b'57_25.jpeg' b'42_18.jpeg' b'20_20.jpeg' ... b'44_23.jpeg' b'22_20.jpeg'\n",
      " b'13_38.jpeg']\n",
      "156329\n"
     ]
    }
   ],
   "source": [
    "import h5py\n",
    "\n",
    "file_path = \"/gpfs/data/pmedlab/Resources/HPL/TCGAFFPE_LUADLUSC_5x_60pc/hdf5_TCGAFFPE_LUADLUSC_5x_60pc_he_validation-003.h5\"\n",
    "\n",
    "with h5py.File(file_path, 'r') as f:\n",
    "    print(list(f.keys()))\n",
    "    \n",
    "    combined_tiles_dataset = f['valid_tiles'][:]\n",
    "    print(combined_tiles_dataset)\n",
    "\n",
    "print(len(combined_tiles_dataset))"
   ]
  },
  {
   "cell_type": "code",
   "execution_count": 5,
   "metadata": {},
   "outputs": [
    {
     "name": "stdout",
     "output_type": "stream",
     "text": [
      "['test_img', 'test_labels', 'test_patterns', 'test_slides', 'test_tiles']\n",
      "[b'41_26.jpeg' b'41_32.jpeg' b'12_19.jpeg' ... b'4_8.jpeg' b'27_22.jpeg'\n",
      " b'5_22.jpeg']\n",
      "148737\n"
     ]
    }
   ],
   "source": [
    "import h5py\n",
    "\n",
    "file_path = \"/gpfs/data/pmedlab/Resources/HPL/TCGAFFPE_LUADLUSC_5x_60pc/hdf5_TCGAFFPE_LUADLUSC_5x_60pc_he_test-001.h5\"\n",
    "\n",
    "with h5py.File(file_path, 'r') as f:\n",
    "    print(list(f.keys()))\n",
    "    \n",
    "    combined_tiles_dataset = f['test_tiles'][:]\n",
    "    print(combined_tiles_dataset)\n",
    "\n",
    "print(len(combined_tiles_dataset))"
   ]
  },
  {
   "cell_type": "code",
   "execution_count": 6,
   "metadata": {},
   "outputs": [
    {
     "name": "stdout",
     "output_type": "stream",
     "text": [
      "['img', 'labels', 'patterns', 'slides', 'tiles']\n",
      "[b'46_14.jpeg' b'23_9.jpeg' b'41_5.jpeg' ... b'14_6.jpeg' b'23_11.jpeg'\n",
      " b'6_13.jpeg']\n",
      "250000\n"
     ]
    }
   ],
   "source": [
    "import h5py\n",
    "\n",
    "file_path = \"/gpfs/scratch/yb2612/dl4med_25/dl_project/scratch_data/hdf5_TCGAFFPE_LUADLUSC_5x_60pc_250K_he_train.h5\"\n",
    "\n",
    "with h5py.File(file_path, 'r') as f:\n",
    "    print(list(f.keys()))\n",
    "    \n",
    "    combined_tiles_dataset = f['tiles'][:]\n",
    "    print(combined_tiles_dataset)\n",
    "\n",
    "print(len(combined_tiles_dataset))"
   ]
  }
 ],
 "metadata": {
  "kernelspec": {
   "display_name": "Python 3 (ipykernel)",
   "language": "python",
   "name": "python3"
  },
  "language_info": {
   "codemirror_mode": {
    "name": "ipython",
    "version": 3
   },
   "file_extension": ".py",
   "mimetype": "text/x-python",
   "name": "python",
   "nbconvert_exporter": "python",
   "pygments_lexer": "ipython3",
   "version": "3.9.21"
  }
 },
 "nbformat": 4,
 "nbformat_minor": 2
}
