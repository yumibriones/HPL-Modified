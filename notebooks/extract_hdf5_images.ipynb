{
 "cells": [
  {
   "cell_type": "markdown",
   "metadata": {},
   "source": [
    "# Extracting images from HDF5 file\n",
    "\n",
    "This notebook extracts images from an HDF5 file and organizes them into subfolders as follows:\n",
    "\n",
    "```\n",
    "* split\n",
    "    * slide\n",
    "        * tile\n",
    "```\n",
    "\n",
    "For example:\n",
    "\n",
    "```\n",
    "* test\n",
    "    * TCGA-05-4382-01Z-00-DX1\n",
    "        * 2_7.jpeg\n",
    "```"
   ]
  },
  {
   "cell_type": "markdown",
   "metadata": {},
   "source": [
    "## Train 250k subset"
   ]
  },
  {
   "cell_type": "code",
   "execution_count": 8,
   "metadata": {},
   "outputs": [
    {
     "name": "stdout",
     "output_type": "stream",
     "text": [
      "Keys in HDF5 file: ['img', 'labels', 'patterns', 'slides', 'tiles']\n",
      "Found 678 unique slides.\n"
     ]
    },
    {
     "name": "stderr",
     "output_type": "stream",
     "text": [
      "Saving tiles by slide: 100%|██████████| 678/678 [12:32<00:00,  1.11s/it]\n"
     ]
    }
   ],
   "source": [
    "import h5py\n",
    "import numpy as np\n",
    "import os\n",
    "from PIL import Image\n",
    "from tqdm import tqdm\n",
    "from collections import defaultdict\n",
    "\n",
    "file_path = \"/gpfs/home/yb2612/dl4med_25/dl_project/data/scratch_data/hdf5_TCGAFFPE_LUADLUSC_5x_60pc_250K_he_train.h5\"\n",
    "output_folder = \"/gpfs/home/yb2612/dl4med_25/dl_project/data/scratch_data/train_250k\"\n",
    "os.makedirs(output_folder, exist_ok=True)\n",
    "\n",
    "with h5py.File(file_path, 'r') as f:\n",
    "    print(\"Keys in HDF5 file:\", list(f.keys()))\n",
    "\n",
    "    img_data = f['img']  # actual image tiles\n",
    "    tiles = [t.decode() if isinstance(t, bytes) else t for t in f['tiles'][:]]   # filenames\n",
    "    slides = [s.decode() if isinstance(s, bytes) else s for s in f['slides'][:]]  # slide folders\n",
    "\n",
    "    # group tile indices by slide\n",
    "    slide_to_indices = defaultdict(list)\n",
    "    for i, slide in enumerate(slides):\n",
    "        slide_to_indices[slide].append(i)\n",
    "\n",
    "    print(f\"Found {len(slide_to_indices)} unique slides.\")\n",
    "\n",
    "    for slide_id, indices in tqdm(slide_to_indices.items(), desc=\"Saving tiles by slide\"):\n",
    "        slide_folder = os.path.join(output_folder, slide_id)\n",
    "        os.makedirs(slide_folder, exist_ok=True)\n",
    "\n",
    "        for idx in indices:\n",
    "            tile_image = img_data[idx]\n",
    "            tile_filename = tiles[idx]\n",
    "\n",
    "            image = Image.fromarray(tile_image.astype(np.uint8))\n",
    "            image.save(os.path.join(slide_folder, tile_filename))\n"
   ]
  },
  {
   "cell_type": "markdown",
   "metadata": {},
   "source": [
    "## Full test set"
   ]
  },
  {
   "cell_type": "code",
   "execution_count": 2,
   "metadata": {},
   "outputs": [
    {
     "name": "stdout",
     "output_type": "stream",
     "text": [
      "Keys in HDF5 file: ['test_img', 'test_labels', 'test_patterns', 'test_slides', 'test_tiles']\n",
      "Found 186 unique slides.\n"
     ]
    },
    {
     "name": "stderr",
     "output_type": "stream",
     "text": [
      "Saving tiles by slide: 100%|██████████| 186/186 [05:35<00:00,  1.80s/it]\n"
     ]
    }
   ],
   "source": [
    "import h5py\n",
    "import numpy as np\n",
    "import os\n",
    "from PIL import Image\n",
    "from tqdm import tqdm\n",
    "from collections import defaultdict\n",
    "\n",
    "file_path = \"/gpfs/home/yb2612/dl4med_25/dl_project/data/scratch_data/hdf5_TCGAFFPE_LUADLUSC_5x_60pc_he_test-001.h5\"\n",
    "output_folder = \"/gpfs/home/yb2612/dl4med_25/dl_project/data/scratch_data/test\"\n",
    "os.makedirs(output_folder, exist_ok=True)\n",
    "\n",
    "with h5py.File(file_path, 'r') as f:\n",
    "    print(\"Keys in HDF5 file:\", list(f.keys()))\n",
    "\n",
    "    img_data = f['test_img']  # actual image tiles\n",
    "    tiles = [t.decode() if isinstance(t, bytes) else t for t in f['test_tiles'][:]]   # filenames\n",
    "    slides = [s.decode() if isinstance(s, bytes) else s for s in f['test_slides'][:]]  # slide folders\n",
    "\n",
    "    # group tile indices by slide\n",
    "    slide_to_indices = defaultdict(list)\n",
    "    for i, slide in enumerate(slides):\n",
    "        slide_to_indices[slide].append(i)\n",
    "\n",
    "    print(f\"Found {len(slide_to_indices)} unique slides.\")\n",
    "\n",
    "    for slide_id, indices in tqdm(slide_to_indices.items(), desc=\"Saving tiles by slide\"):\n",
    "        slide_folder = os.path.join(output_folder, slide_id)\n",
    "        os.makedirs(slide_folder, exist_ok=True)\n",
    "\n",
    "        for idx in indices:\n",
    "            tile_image = img_data[idx]\n",
    "            tile_filename = tiles[idx]\n",
    "\n",
    "            image = Image.fromarray(tile_image.astype(np.uint8))\n",
    "            image.save(os.path.join(slide_folder, tile_filename))\n"
   ]
  },
  {
   "cell_type": "markdown",
   "metadata": {},
   "source": [
    "## Full validation set"
   ]
  },
  {
   "cell_type": "code",
   "execution_count": 3,
   "metadata": {},
   "outputs": [
    {
     "name": "stdout",
     "output_type": "stream",
     "text": [
      "Keys in HDF5 file: ['valid_img', 'valid_labels', 'valid_patterns', 'valid_slides', 'valid_tiles']\n",
      "Found 178 unique slides.\n"
     ]
    },
    {
     "name": "stderr",
     "output_type": "stream",
     "text": [
      "Saving tiles by slide: 100%|██████████| 178/178 [05:49<00:00,  1.96s/it]\n"
     ]
    }
   ],
   "source": [
    "import h5py\n",
    "import numpy as np\n",
    "import os\n",
    "from PIL import Image\n",
    "from tqdm import tqdm\n",
    "from collections import defaultdict\n",
    "\n",
    "file_path = \"/gpfs/home/yb2612/dl4med_25/dl_project/data/scratch_data/hdf5_TCGAFFPE_LUADLUSC_5x_60pc_he_validation-003.h5\"\n",
    "output_folder = \"/gpfs/home/yb2612/dl4med_25/dl_project/data/scratch_data/val\"\n",
    "os.makedirs(output_folder, exist_ok=True)\n",
    "\n",
    "with h5py.File(file_path, 'r') as f:\n",
    "    print(\"Keys in HDF5 file:\", list(f.keys()))\n",
    "\n",
    "    img_data = f['valid_img']  # actual image tiles\n",
    "    tiles = [t.decode() if isinstance(t, bytes) else t for t in f['valid_tiles'][:]]   # filenames\n",
    "    slides = [s.decode() if isinstance(s, bytes) else s for s in f['valid_slides'][:]]  # slide folders\n",
    "\n",
    "    # group tile indices by slide\n",
    "    slide_to_indices = defaultdict(list)\n",
    "    for i, slide in enumerate(slides):\n",
    "        slide_to_indices[slide].append(i)\n",
    "\n",
    "    print(f\"Found {len(slide_to_indices)} unique slides.\")\n",
    "\n",
    "    for slide_id, indices in tqdm(slide_to_indices.items(), desc=\"Saving tiles by slide\"):\n",
    "        slide_folder = os.path.join(output_folder, slide_id)\n",
    "        os.makedirs(slide_folder, exist_ok=True)\n",
    "\n",
    "        for idx in indices:\n",
    "            tile_image = img_data[idx]\n",
    "            tile_filename = tiles[idx]\n",
    "\n",
    "            image = Image.fromarray(tile_image.astype(np.uint8))\n",
    "            image.save(os.path.join(slide_folder, tile_filename))\n"
   ]
  },
  {
   "cell_type": "markdown",
   "metadata": {},
   "source": [
    "## Full train set"
   ]
  },
  {
   "cell_type": "code",
   "execution_count": 4,
   "metadata": {},
   "outputs": [
    {
     "name": "stdout",
     "output_type": "stream",
     "text": [
      "Keys in HDF5 file: ['train_img', 'train_labels', 'train_patterns', 'train_slides', 'train_tiles']\n",
      "Found 678 unique slides.\n"
     ]
    },
    {
     "name": "stderr",
     "output_type": "stream",
     "text": [
      "Saving tiles by slide: 100%|██████████| 678/678 [23:36<00:00,  2.09s/it]\n"
     ]
    }
   ],
   "source": [
    "import h5py\n",
    "import numpy as np\n",
    "import os\n",
    "from PIL import Image\n",
    "from tqdm import tqdm\n",
    "from collections import defaultdict\n",
    "\n",
    "file_path = \"/gpfs/home/yb2612/dl4med_25/dl_project/data/scratch_data/hdf5_TCGAFFPE_LUADLUSC_5x_60pc_he_train-002.h5\"\n",
    "output_folder = \"/gpfs/home/yb2612/dl4med_25/dl_project/data/scratch_data/train\"\n",
    "os.makedirs(output_folder, exist_ok=True)\n",
    "\n",
    "with h5py.File(file_path, 'r') as f:\n",
    "    print(\"Keys in HDF5 file:\", list(f.keys()))\n",
    "\n",
    "    img_data = f['train_img']  # actual image tiles\n",
    "    tiles = [t.decode() if isinstance(t, bytes) else t for t in f['train_tiles'][:]]   # filenames\n",
    "    slides = [s.decode() if isinstance(s, bytes) else s for s in f['train_slides'][:]]  # slide folders\n",
    "\n",
    "    # group tile indices by slide\n",
    "    slide_to_indices = defaultdict(list)\n",
    "    for i, slide in enumerate(slides):\n",
    "        slide_to_indices[slide].append(i)\n",
    "\n",
    "    print(f\"Found {len(slide_to_indices)} unique slides.\")\n",
    "\n",
    "    for slide_id, indices in tqdm(slide_to_indices.items(), desc=\"Saving tiles by slide\"):\n",
    "        slide_folder = os.path.join(output_folder, slide_id)\n",
    "        os.makedirs(slide_folder, exist_ok=True)\n",
    "\n",
    "        for idx in indices:\n",
    "            tile_image = img_data[idx]\n",
    "            tile_filename = tiles[idx]\n",
    "\n",
    "            image = Image.fromarray(tile_image.astype(np.uint8))\n",
    "            image.save(os.path.join(slide_folder, tile_filename))\n"
   ]
  }
 ],
 "metadata": {
  "kernelspec": {
   "display_name": "Python 3 (ipykernel)",
   "language": "python",
   "name": "python3"
  },
  "language_info": {
   "codemirror_mode": {
    "name": "ipython",
    "version": 3
   },
   "file_extension": ".py",
   "mimetype": "text/x-python",
   "name": "python",
   "nbconvert_exporter": "python",
   "pygments_lexer": "ipython3",
   "version": "3.9.21"
  }
 },
 "nbformat": 4,
 "nbformat_minor": 4
}
